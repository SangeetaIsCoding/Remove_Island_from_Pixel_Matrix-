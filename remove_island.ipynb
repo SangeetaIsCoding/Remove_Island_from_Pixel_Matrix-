{
  "nbformat": 4,
  "nbformat_minor": 0,
  "metadata": {
    "colab": {
      "provenance": [],
      "authorship_tag": "ABX9TyMR0zKkCKycSpRD7UnosiWd",
      "include_colab_link": true
    },
    "kernelspec": {
      "name": "python3",
      "display_name": "Python 3"
    },
    "language_info": {
      "name": "python"
    }
  },
  "cells": [
    {
      "cell_type": "markdown",
      "metadata": {
        "id": "view-in-github",
        "colab_type": "text"
      },
      "source": [
        "<a href=\"https://colab.research.google.com/github/SangeetaIsCoding/Remove_Island_from_Pixel_Matrix-/blob/main/remove_island.ipynb\" target=\"_parent\"><img src=\"https://colab.research.google.com/assets/colab-badge.svg\" alt=\"Open In Colab\"/></a>"
      ]
    },
    {
      "cell_type": "code",
      "source": [
        "Matx = [[1,1,0,0,1], [1,0,1,0,1], [1,1,1,0,0], [1,0,0,1,0], [1,0,0,0,1]]\n",
        "N = 5"
      ],
      "metadata": {
        "id": "mOQvEfFQ67QY"
      },
      "execution_count": null,
      "outputs": []
    },
    {
      "cell_type": "code",
      "source": [
        "# This function use to navigate the direction list [left,right,top,bottom] in respective sequence\n",
        "def navigate_dir(i,j,N,Matx,prev_status):\n",
        "  \n",
        "  if(j==0 or Matx[i][j-1]==0):\n",
        "    left = 0\n",
        "  elif(prev_status[0] == \"connected\" and prev_status[1] == \"right\"):\n",
        "    left = 0\n",
        "  else:\n",
        "    left = -1\n",
        "    print(\"left\",prev_status)\n",
        "  \n",
        "  if(j==N-1 or Matx[i][j+1]==0):\n",
        "    right = 0\n",
        "  elif(prev_status[0] == \"connected\" and prev_status[1] == \"left\"):\n",
        "    right = 0\n",
        "  else:\n",
        "    right = 1\n",
        "\n",
        "  if(i==0 or Matx[i-1][j]==0):\n",
        "    top = 0\n",
        "  elif(prev_status[0] == \"connected\" and prev_status[1] == \"bottom\"):\n",
        "    top = 0\n",
        "  else:\n",
        "    top = -1\n",
        "  \n",
        "  if(i==N-1 or Matx[i+1][j]==0):\n",
        "    bottom = 0\n",
        "  elif(prev_status[0] == \"connected\" and prev_status[1] == \"top\"):\n",
        "    bottom = 0\n",
        "  else:\n",
        "    bottom = 1\n",
        "  navigate_list = [left,right,top,bottom]\n",
        "  return navigate_list\n"
      ],
      "metadata": {
        "id": "W9CXZcJ206v7"
      },
      "execution_count": null,
      "outputs": []
    },
    {
      "cell_type": "code",
      "source": [
        "def check_connected(i,j,N,prev_status):\n",
        "  corners = [0,N-1]\n",
        "  if(i in corners or j in corners or prev_status[0]==\"connected\"):\n",
        "    status = \"connected\"\n",
        "  else:\n",
        "    status = \"isolated\"\n",
        "  return status"
      ],
      "metadata": {
        "id": "KFpNrUX207IF"
      },
      "execution_count": null,
      "outputs": []
    },
    {
      "cell_type": "code",
      "source": [
        "def navigation_dict_upadte(dict_navigation_nonzero,idx_key,present_status,navigate_list,prev_status):\n",
        "  if(idx_key not in dict_navigation_nonzero):\n",
        "    dict_navigation_nonzero[idx_key] = {}\n",
        "  \n",
        "  dict_navigation_nonzero[idx_key][\"present_status\"] = present_status\n",
        "  dict_navigation_nonzero[idx_key][\"navigation_list\"] = navigate_list\n",
        "  dict_navigation_nonzero[idx_key][\"previous_status\"] = prev_status\n",
        "  return dict_navigation_nonzero\n",
        "  \n"
      ],
      "metadata": {
        "id": "pnIGR9Pz07Sk"
      },
      "execution_count": null,
      "outputs": []
    },
    {
      "cell_type": "code",
      "source": [
        "\n",
        "def access_navigation(idx_nav,i,j,dict_navigation_nonzero):\n",
        "  # handle left nagigation\n",
        "  if(idx_nav == 0):\n",
        "    j = j-1\n",
        "    idx_key = str(i)+\"_\"+str(j)\n",
        "    prev_status = [\"connected\",\"left\"]\n",
        "    navigate_list = []\n",
        "    present_status = \"connected\"\n",
        "    dict_navigation_nonzero = navigation_dict_upadte(dict_navigation_nonzero,idx_key,present_status,navigate_list,prev_status)\n",
        "\n",
        "  elif(idx_nav == 1):\n",
        "    j = j+1\n",
        "    idx_key = str(i)+\"_\"+str(j)\n",
        "    prev_status = [\"connected\",\"right\"]\n",
        "    navigate_list = []\n",
        "    present_status = \"connected\"\n",
        "    dict_navigation_nonzero = navigation_dict_upadte(dict_navigation_nonzero,idx_key,present_status,navigate_list,prev_status)\n",
        "  \n",
        "  elif(idx_nav == 2):\n",
        "    i = i-1\n",
        "    idx_key = str(i)+\"_\"+str(j)\n",
        "    prev_status = [\"connected\",\"top\"]\n",
        "    navigate_list = []\n",
        "    present_status = \"connected\"\n",
        "    dict_navigation_nonzero = navigation_dict_upadte(dict_navigation_nonzero,idx_key,present_status,navigate_list,prev_status)\n",
        "\n",
        "  elif(idx_nav == 3):\n",
        "    i = i+1\n",
        "    idx_key = str(i)+\"_\"+str(j)\n",
        "    prev_status = [\"connected\",\"bottom\"]\n",
        "    navigate_list = []\n",
        "    present_status = \"connected\"\n",
        "    dict_navigation_nonzero = navigation_dict_upadte(dict_navigation_nonzero,idx_key,present_status,navigate_list,prev_status)\n",
        "  \n",
        "  print(dict_navigation_nonzero)\n",
        "  return dict_navigation_nonzero"
      ],
      "metadata": {
        "id": "Se4UQTd21Liz"
      },
      "execution_count": null,
      "outputs": []
    },
    {
      "cell_type": "code",
      "source": [
        "dict_navigation_nonzero = {}\n",
        "\n",
        "for i in range(N):\n",
        "  for j in range(N):\n",
        "    root = Matx[i][j]\n",
        "    if(root == 1):\n",
        "      idx_key = str(i)+\"_\"+str(j)\n",
        "      if(idx_key not in dict_navigation_nonzero):\n",
        "        prev_status = [\"not_visited\",\"None\"]\n",
        "      else:\n",
        "        prev_status = dict_navigation_nonzero[idx_key][\"previous_status\"]\n",
        "      present_status = check_connected(i,j,N,prev_status)\n",
        "      navigate_list = navigate_dir(i,j,N,Matx,prev_status)\n",
        "      print(i,j,navigate_list)\n",
        "      # Update dict_navigation_nonzero\n",
        "      dict_navigation_nonzero = navigation_dict_upadte(dict_navigation_nonzero,idx_key,present_status,navigate_list,prev_status)\n",
        "        \n",
        "      if(present_status == \"connected\"):\n",
        "        for idx_nav in range(4):\n",
        "          nav = navigate_list[idx_nav]\n",
        "          if(nav != 0):\n",
        "            dict_navigation_nonzero = access_navigation(idx_nav,i,j,dict_navigation_nonzero)\n",
        "\n",
        "for key in dict_navigation_nonzero.keys():\n",
        "  print(key,dict_navigation_nonzero[key])\n",
        "          \n",
        "\n",
        "\n"
      ],
      "metadata": {
        "colab": {
          "base_uri": "https://localhost:8080/"
        },
        "id": "1gXAFMLP1Ltx",
        "outputId": "f212b513-36f8-4a1e-8b3f-2aacb13a1f83"
      },
      "execution_count": null,
      "outputs": [
        {
          "output_type": "stream",
          "name": "stdout",
          "text": [
            "0 0 [0, 1, 0, 1]\n",
            "{'0_0': {'present_status': 'connected', 'navigation_list': [0, 1, 0, 1], 'previous_status': ['not_visited', 'None']}, '0_1': {'present_status': 'connected', 'navigation_list': [], 'previous_status': ['connected', 'right']}}\n",
            "{'0_0': {'present_status': 'connected', 'navigation_list': [0, 1, 0, 1], 'previous_status': ['not_visited', 'None']}, '0_1': {'present_status': 'connected', 'navigation_list': [], 'previous_status': ['connected', 'right']}, '1_0': {'present_status': 'connected', 'navigation_list': [], 'previous_status': ['connected', 'bottom']}}\n",
            "0 1 [0, 0, 0, 0]\n",
            "0 4 [0, 0, 0, 1]\n",
            "{'0_0': {'present_status': 'connected', 'navigation_list': [0, 1, 0, 1], 'previous_status': ['not_visited', 'None']}, '0_1': {'present_status': 'connected', 'navigation_list': [0, 0, 0, 0], 'previous_status': ['connected', 'right']}, '1_0': {'present_status': 'connected', 'navigation_list': [], 'previous_status': ['connected', 'bottom']}, '0_4': {'present_status': 'connected', 'navigation_list': [0, 0, 0, 1], 'previous_status': ['not_visited', 'None']}, '1_4': {'present_status': 'connected', 'navigation_list': [], 'previous_status': ['connected', 'bottom']}}\n",
            "1 0 [0, 0, 0, 1]\n",
            "{'0_0': {'present_status': 'connected', 'navigation_list': [0, 1, 0, 1], 'previous_status': ['not_visited', 'None']}, '0_1': {'present_status': 'connected', 'navigation_list': [0, 0, 0, 0], 'previous_status': ['connected', 'right']}, '1_0': {'present_status': 'connected', 'navigation_list': [0, 0, 0, 1], 'previous_status': ['connected', 'bottom']}, '0_4': {'present_status': 'connected', 'navigation_list': [0, 0, 0, 1], 'previous_status': ['not_visited', 'None']}, '1_4': {'present_status': 'connected', 'navigation_list': [], 'previous_status': ['connected', 'bottom']}, '2_0': {'present_status': 'connected', 'navigation_list': [], 'previous_status': ['connected', 'bottom']}}\n",
            "1 2 [0, 0, 0, 1]\n",
            "1 4 [0, 0, 0, 0]\n",
            "2 0 [0, 1, 0, 1]\n",
            "{'0_0': {'present_status': 'connected', 'navigation_list': [0, 1, 0, 1], 'previous_status': ['not_visited', 'None']}, '0_1': {'present_status': 'connected', 'navigation_list': [0, 0, 0, 0], 'previous_status': ['connected', 'right']}, '1_0': {'present_status': 'connected', 'navigation_list': [0, 0, 0, 1], 'previous_status': ['connected', 'bottom']}, '0_4': {'present_status': 'connected', 'navigation_list': [0, 0, 0, 1], 'previous_status': ['not_visited', 'None']}, '1_4': {'present_status': 'connected', 'navigation_list': [0, 0, 0, 0], 'previous_status': ['connected', 'bottom']}, '2_0': {'present_status': 'connected', 'navigation_list': [0, 1, 0, 1], 'previous_status': ['connected', 'bottom']}, '1_2': {'present_status': 'isolated', 'navigation_list': [0, 0, 0, 1], 'previous_status': ['not_visited', 'None']}, '2_1': {'present_status': 'connected', 'navigation_list': [], 'previous_status': ['connected', 'right']}}\n",
            "{'0_0': {'present_status': 'connected', 'navigation_list': [0, 1, 0, 1], 'previous_status': ['not_visited', 'None']}, '0_1': {'present_status': 'connected', 'navigation_list': [0, 0, 0, 0], 'previous_status': ['connected', 'right']}, '1_0': {'present_status': 'connected', 'navigation_list': [0, 0, 0, 1], 'previous_status': ['connected', 'bottom']}, '0_4': {'present_status': 'connected', 'navigation_list': [0, 0, 0, 1], 'previous_status': ['not_visited', 'None']}, '1_4': {'present_status': 'connected', 'navigation_list': [0, 0, 0, 0], 'previous_status': ['connected', 'bottom']}, '2_0': {'present_status': 'connected', 'navigation_list': [0, 1, 0, 1], 'previous_status': ['connected', 'bottom']}, '1_2': {'present_status': 'isolated', 'navigation_list': [0, 0, 0, 1], 'previous_status': ['not_visited', 'None']}, '2_1': {'present_status': 'connected', 'navigation_list': [], 'previous_status': ['connected', 'right']}, '3_0': {'present_status': 'connected', 'navigation_list': [], 'previous_status': ['connected', 'bottom']}}\n",
            "2 1 [0, 1, 0, 0]\n",
            "{'0_0': {'present_status': 'connected', 'navigation_list': [0, 1, 0, 1], 'previous_status': ['not_visited', 'None']}, '0_1': {'present_status': 'connected', 'navigation_list': [0, 0, 0, 0], 'previous_status': ['connected', 'right']}, '1_0': {'present_status': 'connected', 'navigation_list': [0, 0, 0, 1], 'previous_status': ['connected', 'bottom']}, '0_4': {'present_status': 'connected', 'navigation_list': [0, 0, 0, 1], 'previous_status': ['not_visited', 'None']}, '1_4': {'present_status': 'connected', 'navigation_list': [0, 0, 0, 0], 'previous_status': ['connected', 'bottom']}, '2_0': {'present_status': 'connected', 'navigation_list': [0, 1, 0, 1], 'previous_status': ['connected', 'bottom']}, '1_2': {'present_status': 'isolated', 'navigation_list': [0, 0, 0, 1], 'previous_status': ['not_visited', 'None']}, '2_1': {'present_status': 'connected', 'navigation_list': [0, 1, 0, 0], 'previous_status': ['connected', 'right']}, '3_0': {'present_status': 'connected', 'navigation_list': [], 'previous_status': ['connected', 'bottom']}, '2_2': {'present_status': 'connected', 'navigation_list': [], 'previous_status': ['connected', 'right']}}\n",
            "2 2 [0, 0, -1, 0]\n",
            "{'0_0': {'present_status': 'connected', 'navigation_list': [0, 1, 0, 1], 'previous_status': ['not_visited', 'None']}, '0_1': {'present_status': 'connected', 'navigation_list': [0, 0, 0, 0], 'previous_status': ['connected', 'right']}, '1_0': {'present_status': 'connected', 'navigation_list': [0, 0, 0, 1], 'previous_status': ['connected', 'bottom']}, '0_4': {'present_status': 'connected', 'navigation_list': [0, 0, 0, 1], 'previous_status': ['not_visited', 'None']}, '1_4': {'present_status': 'connected', 'navigation_list': [0, 0, 0, 0], 'previous_status': ['connected', 'bottom']}, '2_0': {'present_status': 'connected', 'navigation_list': [0, 1, 0, 1], 'previous_status': ['connected', 'bottom']}, '1_2': {'present_status': 'connected', 'navigation_list': [], 'previous_status': ['connected', 'top']}, '2_1': {'present_status': 'connected', 'navigation_list': [0, 1, 0, 0], 'previous_status': ['connected', 'right']}, '3_0': {'present_status': 'connected', 'navigation_list': [], 'previous_status': ['connected', 'bottom']}, '2_2': {'present_status': 'connected', 'navigation_list': [0, 0, -1, 0], 'previous_status': ['connected', 'right']}}\n",
            "3 0 [0, 0, 0, 1]\n",
            "{'0_0': {'present_status': 'connected', 'navigation_list': [0, 1, 0, 1], 'previous_status': ['not_visited', 'None']}, '0_1': {'present_status': 'connected', 'navigation_list': [0, 0, 0, 0], 'previous_status': ['connected', 'right']}, '1_0': {'present_status': 'connected', 'navigation_list': [0, 0, 0, 1], 'previous_status': ['connected', 'bottom']}, '0_4': {'present_status': 'connected', 'navigation_list': [0, 0, 0, 1], 'previous_status': ['not_visited', 'None']}, '1_4': {'present_status': 'connected', 'navigation_list': [0, 0, 0, 0], 'previous_status': ['connected', 'bottom']}, '2_0': {'present_status': 'connected', 'navigation_list': [0, 1, 0, 1], 'previous_status': ['connected', 'bottom']}, '1_2': {'present_status': 'connected', 'navigation_list': [], 'previous_status': ['connected', 'top']}, '2_1': {'present_status': 'connected', 'navigation_list': [0, 1, 0, 0], 'previous_status': ['connected', 'right']}, '3_0': {'present_status': 'connected', 'navigation_list': [0, 0, 0, 1], 'previous_status': ['connected', 'bottom']}, '2_2': {'present_status': 'connected', 'navigation_list': [0, 0, -1, 0], 'previous_status': ['connected', 'right']}, '4_0': {'present_status': 'connected', 'navigation_list': [], 'previous_status': ['connected', 'bottom']}}\n",
            "3 3 [0, 0, 0, 0]\n",
            "4 0 [0, 0, 0, 0]\n",
            "4 4 [0, 0, 0, 0]\n",
            "0_0 {'present_status': 'connected', 'navigation_list': [0, 1, 0, 1], 'previous_status': ['not_visited', 'None']}\n",
            "0_1 {'present_status': 'connected', 'navigation_list': [0, 0, 0, 0], 'previous_status': ['connected', 'right']}\n",
            "1_0 {'present_status': 'connected', 'navigation_list': [0, 0, 0, 1], 'previous_status': ['connected', 'bottom']}\n",
            "0_4 {'present_status': 'connected', 'navigation_list': [0, 0, 0, 1], 'previous_status': ['not_visited', 'None']}\n",
            "1_4 {'present_status': 'connected', 'navigation_list': [0, 0, 0, 0], 'previous_status': ['connected', 'bottom']}\n",
            "2_0 {'present_status': 'connected', 'navigation_list': [0, 1, 0, 1], 'previous_status': ['connected', 'bottom']}\n",
            "1_2 {'present_status': 'connected', 'navigation_list': [], 'previous_status': ['connected', 'top']}\n",
            "2_1 {'present_status': 'connected', 'navigation_list': [0, 1, 0, 0], 'previous_status': ['connected', 'right']}\n",
            "3_0 {'present_status': 'connected', 'navigation_list': [0, 0, 0, 1], 'previous_status': ['connected', 'bottom']}\n",
            "2_2 {'present_status': 'connected', 'navigation_list': [0, 0, -1, 0], 'previous_status': ['connected', 'right']}\n",
            "4_0 {'present_status': 'connected', 'navigation_list': [0, 0, 0, 0], 'previous_status': ['connected', 'bottom']}\n",
            "3_3 {'present_status': 'isolated', 'navigation_list': [0, 0, 0, 0], 'previous_status': ['not_visited', 'None']}\n",
            "4_4 {'present_status': 'connected', 'navigation_list': [0, 0, 0, 0], 'previous_status': ['not_visited', 'None']}\n"
          ]
        }
      ]
    }
  ]
}